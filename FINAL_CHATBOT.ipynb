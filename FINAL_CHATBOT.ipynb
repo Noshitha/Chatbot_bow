{
 "cells": [
  {
   "cell_type": "markdown",
   "id": "121e29fc",
   "metadata": {},
   "source": [
    "# IMPORTING THE LIBRARIES"
   ]
  },
  {
   "cell_type": "code",
   "execution_count": 28,
   "id": "4206899d",
   "metadata": {},
   "outputs": [],
   "source": [
    "import nltk\n",
    "from nltk.stem.lancaster import LancasterStemmer\n",
    "stemmer = LancasterStemmer()\n",
    "import time\n",
    "import difflib\n",
    "import numpy\n",
    "import tflearn\n",
    "import tensorflow\n",
    "import json\n",
    "import pickle\n",
    "import random\n",
    "import os"
   ]
  },
  {
   "cell_type": "markdown",
   "id": "041ac763",
   "metadata": {},
   "source": [
    "# PRE- PROCESSING THE DATA"
   ]
  },
  {
   "cell_type": "code",
   "execution_count": 29,
   "id": "45526ecd",
   "metadata": {},
   "outputs": [],
   "source": [
    "with open(\"intents (1).json\") as file:\n",
    "    data = json.load(file)\n",
    "\n",
    "try:\n",
    "    with open(\"data.pickle\", \"rb\") as f:\n",
    "        words, labels, training, output = pickle.load(f)\n",
    "except:\n",
    "    words = []\n",
    "    labels =[]\n",
    "    docs_patt = []\n",
    "    docs_tag = []\n",
    "\n",
    "#TOKENISATION & STEMMING\n",
    "    for intent in data[\"intents\"]:\n",
    "        for pattern in intent[\"patterns\"]:\n",
    "            wrds = nltk.word_tokenize(pattern)\n",
    "            for item in wrds:\n",
    "                words.extend(wrds)\n",
    "                docs_patt.append(wrds)\n",
    "                docs_tag.append(intent[\"tag\"])\n",
    "                if intent[\"tag\"] not in labels:\n",
    "                    labels.append(intent[\"tag\"])\n",
    "    words = [stemmer.stem(w.lower()) for w in words]\n",
    "    words = sorted(list(set(words)))\n",
    "    labels = sorted(labels)\n",
    "\n",
    "    training = []\n",
    "    output = []\n",
    "\n",
    "    out_empty = [0 for _ in range(len(labels))]\n",
    "# BAG OF WORDS - FEATURE ENGINEERING\n",
    "    for x, doc in enumerate(docs_patt):\n",
    "        bag = []\n",
    "        wrds = [stemmer.stem(w.lower()) for w in doc]\n",
    "        for w in words:\n",
    "            if w in wrds:\n",
    "                bag.append(1)\n",
    "            else:\n",
    "                bag.append(0)\n",
    "        output_row = out_empty[:]\n",
    "        output_row[labels.index(docs_tag[x])] = 1\n",
    "\n",
    "        training.append(bag)\n",
    "        output.append(output_row)\n",
    "\n",
    "    training = numpy.array(training)\n",
    "    output = numpy.array(output)\n",
    "\n",
    "    with open(\"data.pickle\", \"wb\") as f:\n",
    "        pickle.dump((words, labels, training, output), f)"
   ]
  },
  {
   "cell_type": "markdown",
   "id": "5c0a4476",
   "metadata": {},
   "source": [
    "# MODEL BUILDING"
   ]
  },
  {
   "cell_type": "code",
   "execution_count": 30,
   "id": "f154539e",
   "metadata": {},
   "outputs": [],
   "source": [
    "from tensorflow.python.framework import ops\n",
    "ops.reset_default_graph()\n",
    "net = tflearn.input_data(shape=[None, len(training[0])])\n",
    "net = tflearn.fully_connected(net, 8)\n",
    "net = tflearn.fully_connected(net, 8)\n",
    "net = tflearn.fully_connected(net, len(output[0]), activation=\"softmax\")\n",
    "net = tflearn.regression(net)\n",
    "\n",
    "model = tflearn.DNN(net)"
   ]
  },
  {
   "cell_type": "markdown",
   "id": "a94cab1a",
   "metadata": {},
   "source": [
    "BATCH GRADIENT DESCEND -> BATCH SIZE=8, NO OF EPOCHES= 1000"
   ]
  },
  {
   "cell_type": "code",
   "execution_count": 31,
   "id": "653e91f5",
   "metadata": {},
   "outputs": [
    {
     "name": "stdout",
     "output_type": "stream",
     "text": [
      "Training Step: 193999  | time: 0.736s\n",
      "| Adam | epoch: 1000 | loss: 0.00000 - acc: 0.9467 -- iter: 1544/1549\n",
      "Training Step: 194000  | time: 0.744s\n",
      "| Adam | epoch: 1000 | loss: 0.00000 - acc: 0.9521 -- iter: 1549/1549\n",
      "--\n",
      "INFO:tensorflow:C:\\Users\\Dell\\Desktop\\major project\\model.tflearn is not in all_model_checkpoint_paths. Manually adding it.\n"
     ]
    }
   ],
   "source": [
    "try:\n",
    "    model.load(\"model.tflearn\")\n",
    "except:\n",
    "    model = tflearn.DNN(net)\n",
    "    history = model.fit(training, output, n_epoch=1000, batch_size=8, show_metric=True)\n",
    "    model.save(\"model.tflearn\")"
   ]
  },
  {
   "cell_type": "markdown",
   "id": "48dcef15",
   "metadata": {},
   "source": [
    "# INPUT PRE PROCESSING"
   ]
  },
  {
   "cell_type": "code",
   "execution_count": 32,
   "id": "f88df1f2",
   "metadata": {},
   "outputs": [],
   "source": [
    "def bag_of_words(s, words):\n",
    "    bag = [0 for _ in range(len(words))]\n",
    "\n",
    "    s_words = nltk.word_tokenize(s)\n",
    "    s_words = [stemmer.stem(word.lower()) for word in s_words]\n",
    "\n",
    "    for se in s_words:\n",
    "        for i, w in enumerate(words):\n",
    "            if w == se:\n",
    "                bag[i] = 1\n",
    "\n",
    "    return numpy.array(bag)"
   ]
  },
  {
   "cell_type": "code",
   "execution_count": 33,
   "id": "3e8599cd",
   "metadata": {},
   "outputs": [],
   "source": [
    "def words_to_list(s):\n",
    "    a = []\n",
    "    ns = \"\"\n",
    "    s = s + \" \" \n",
    "    for i in range(len(s)):\n",
    "        if s[i] == \" \":\n",
    "            a.append(ns)\n",
    "            ns = \"\"\n",
    "        else:\n",
    "            ns = ns + s[i]\n",
    "    a = list(set(a))\n",
    "    return a"
   ]
  },
  {
   "cell_type": "code",
   "execution_count": 34,
   "id": "951a913e",
   "metadata": {},
   "outputs": [],
   "source": [
    "# pass the file in this fuction to create a dictionary of unique vocabulary\n",
    "def json_to_dictionary(data):\n",
    "    dictionary = []\n",
    "    fil_dict= []\n",
    "    vocalubary = []\n",
    "    for i in data[\"intents\"]:\n",
    "        for pattern in i[\"patterns\"]:\n",
    "            vocalubary.append(pattern.lower())\n",
    "    for i in vocalubary:\n",
    "        dictionary.append(words_to_list(i))\n",
    "    for i in range(len(dictionary)):\n",
    "        for word in dictionary[i]:\n",
    "            fil_dict.append(word)\n",
    "    return list(set(fil_dict))\n",
    "\n",
    "# this fuction checks the spelling in the sentence\n",
    "chatbot_vocabulary = json_to_dictionary(data)"
   ]
  },
  {
   "cell_type": "code",
   "execution_count": 35,
   "id": "82c8db71",
   "metadata": {},
   "outputs": [],
   "source": [
    "def word_checker(s):\n",
    "    correct_string = \"\"\n",
    "    for word in s.casefold().split():\n",
    "        if word not in chatbot_vocabulary:\n",
    "            suggestion = difflib.get_close_matches(word, chatbot_vocabulary)\n",
    "            for x in suggestion:\n",
    "                pass\n",
    "            if len(suggestion) == 0:\n",
    "                pass\n",
    "            else:\n",
    "                correct_string = correct_string + \" \" + str(suggestion[0])\n",
    "        else:\n",
    "            correct_string = correct_string + \" \" + str(word)\n",
    "\n",
    "    return correct_string "
   ]
  },
  {
   "cell_type": "markdown",
   "id": "34bfb4f8",
   "metadata": {},
   "source": [
    "# SPEECH RECOGNITION"
   ]
  },
  {
   "cell_type": "code",
   "execution_count": 36,
   "id": "cd51845a",
   "metadata": {},
   "outputs": [],
   "source": [
    "import speech_recognition as sr\n",
    "r=sr.Recognizer()\n",
    "import pyttsx3\n",
    "engine = pyttsx3.init()"
   ]
  },
  {
   "cell_type": "code",
   "execution_count": 37,
   "id": "5f5e8e2a",
   "metadata": {},
   "outputs": [],
   "source": [
    "def bot_speaking(message):\n",
    "    engine.say(message)\n",
    "    engine.runAndWait()\n",
    "    if engine._inLoop:\n",
    "        engine.endLoop()"
   ]
  },
  {
   "cell_type": "markdown",
   "id": "26ea286c",
   "metadata": {},
   "source": [
    "# CHAT FUNCTION"
   ]
  },
  {
   "cell_type": "code",
   "execution_count": 38,
   "id": "52ab1363",
   "metadata": {},
   "outputs": [
    {
     "name": "stdout",
     "output_type": "stream",
     "text": [
      "VNR :Hi! I am your personal bot. I am here to answer queries on VNRVJIET\n",
      "YOU : hii\n",
      "VNR : Hi there, how can I help?\n",
      "YOU : who is the head of it\n",
      "VNR : The head of IT department is Dr. G. Suresh Reddy.\n",
      "YOU : president?\n",
      "VNR : Dr.D.Nageswara Rao is the president of VNRVJIET. \n",
      "YOU : general secretary \n",
      "VNR : Sri.K.Harishchandra Prasad is the general secretary of VNRVJIET\n",
      "YOU : who is joint secretary \n",
      "VNR : Sri.Kode Durga Prasad, IPS(Retd.) is the joint secretary of VNRVJIET.\n",
      "YOU : director of vnr\n",
      "VNR : Sorry, I don't know how to answer that yet \n",
      "YOU : who is director\n",
      "VNR : Dr.B.Chennakesava Reddy is the director of VNRVJIET.\n",
      "YOU : governing council members?\n",
      "VNR : For details about all the members of Governing Council: http://www.vnrvjiet.ac.in/gc.php \n",
      "YOU : facilities of vnr\n",
      "VNR : I am glad I helped you\n",
      "YOU : facilities\n",
      "VNR : Classrooms and labs are spacious and cleanly maintained. \n",
      " There is a huge library with digital library with all kinds of books, from novels to textbooks, and it is the best place to study. \n",
      "The canteen and hostels are also well-maintained, and the food is homely. \n",
      " There is a huge sports complex, which is offering all kinds of indoor and outdoor games like table tennis, badminton, carrom, chess, basketball and kabaddi, along with expert guidance. \n",
      "YOU : CSE VS it\n",
      "VNR : Computer Science Engineering deals with the design and development of computer components, whereas,\n",
      " Information Technology is the branch of Engineering that deals with the application of computers in businesses.\n",
      "YOU : quit\n"
     ]
    }
   ],
   "source": [
    "def chat():\n",
    "    print(\"VNR :Hi! I am your personal bot. I am here to answer queries on VNRVJIET\")\n",
    "    while True:\n",
    "        inp=input(\"YOU : \")\n",
    "        if inp.lower() == \"quit\"or inp==None:\n",
    "            break\n",
    "        inp_x = word_checker(inp)\n",
    "        results = model.predict([bag_of_words(inp_x, words)])[0]\n",
    "        results_index = numpy.argmax(results)\n",
    "        tag = labels[results_index]\n",
    "        #print(results[results_index])\n",
    "        if results[results_index] >= 0.9:\n",
    "            for tg in data[\"intents\"]:\n",
    "                if tg['tag'] == tag:\n",
    "                    responses = tg['responses']\n",
    "                    ms= random.choice(responses)\n",
    "                    print(\"VNR : \"+ms)\n",
    "                    bot_speaking(ms)\n",
    "        else:\n",
    "            print(\"VNR : Sorry, I don't know how to answer that yet \")\n",
    "            bot_speaking(\"Sorry, I don't know how to answer that yet\")\n",
    "chat()"
   ]
  },
  {
   "cell_type": "markdown",
   "id": "4f360347",
   "metadata": {},
   "source": [
    "# GUI APPLICATION - CHATBOT"
   ]
  },
  {
   "cell_type": "code",
   "execution_count": null,
   "id": "47c31b6c",
   "metadata": {},
   "outputs": [],
   "source": [
    "from tkinter import *\n",
    "\n",
    "BG_GRAY = \"#ABB2B9\"\n",
    "BG_COLOR = \"#17202A\"\n",
    "TEXT_COLOR = \"#EAECEE\"\n",
    "\n",
    "FONT = \"Helvetica 14\"\n",
    "FONT_BOLD = \"Helvetica 13 bold\"\n",
    "bot_name =\"VNR-BOT\"\n",
    "def get_response(msg):\n",
    "    #print(\"Hi! I am your personal bot. I am here to answer queries on VNRVJIET\")\n",
    "    while True:\n",
    "        inp=msg\n",
    "        if inp.lower() == \"quit\"or inp==None:\n",
    "            break\n",
    "        inp_x = word_checker(inp)\n",
    "        results = model.predict([bag_of_words(inp_x, words)])[0]\n",
    "        results_index = numpy.argmax(results)\n",
    "        tag = labels[results_index]\n",
    "        #print(results[results_index])\n",
    "        if results[results_index] >= 0.9:\n",
    "            for tg in data[\"intents\"]:\n",
    "                if tg['tag'] == tag:\n",
    "                    responses = tg['responses']\n",
    "                    ms= random.choice(responses)\n",
    "                    return ms\n",
    "        else:\n",
    "            return \" Sorry, I don't know how to answer that yet \"\n",
    "\n",
    "class ChatApplication:\n",
    "    \n",
    "    def __init__(self):\n",
    "        self.window = Tk()\n",
    "        self._setup_main_window()\n",
    "        \n",
    "    def run(self):\n",
    "        self.window.mainloop()\n",
    "        \n",
    "    def _setup_main_window(self):\n",
    "        self.window.title(\"Chat\")\n",
    "        #self.window.resizable(width=False, height=False)\n",
    "        self.window.configure(width=470, height=550, bg=BG_COLOR)\n",
    "        \n",
    "        # head label\n",
    "        head_label = Label(self.window, bg=BG_COLOR, fg=TEXT_COLOR,\n",
    "                           text=\"WELCOME TO VNRVJIET CHAT-BOT\", font=FONT_BOLD, pady=10)\n",
    "        head_label.place(relwidth=1)\n",
    "        \n",
    "        # tiny divider\n",
    "        line = Label(self.window, width=450, bg=BG_GRAY)\n",
    "        line.place(relwidth=1, rely=0.07, relheight=0.012)\n",
    "        \n",
    "        # text widget\n",
    "        self.text_widget = Text(self.window, width=20, height=2, bg=BG_COLOR, fg=TEXT_COLOR,\n",
    "                                font=FONT, padx=5, pady=5)\n",
    "        self.text_widget.place(relheight=0.745, relwidth=1, rely=0.08)\n",
    "        self.text_widget.configure(cursor=\"arrow\", state=DISABLED)\n",
    "        \n",
    "        # scroll bar\n",
    "        scrollbar = Scrollbar(self.text_widget)\n",
    "        scrollbar.place(relheight=1, relx=0.974)\n",
    "        scrollbar.configure(command=self.text_widget.yview)\n",
    "        \n",
    "        # bottom label\n",
    "        bottom_label = Label(self.window, bg=BG_GRAY, height=80)\n",
    "        bottom_label.place(relwidth=1, rely=0.825)\n",
    "        \n",
    "        # message entry box\n",
    "        self.msg_entry = Entry(bottom_label, bg=\"#2C3E50\", fg=TEXT_COLOR, font=FONT)\n",
    "        self.msg_entry.place(relwidth=0.74, relheight=0.06, rely=0.008, relx=0.011)\n",
    "        self.msg_entry.focus()\n",
    "        self.msg_entry.bind(\"<Return>\", self._on_enter_pressed)\n",
    "        \n",
    "        # send button\n",
    "        send_button = Button(bottom_label, text=\"Send\", font=FONT_BOLD, width=20, bg=BG_GRAY, command=lambda: self._on_enter_pressed(None))\n",
    "        send_button.place(relx=0.77, rely=0.008, relheight=0.06, relwidth=0.22)\n",
    "     \n",
    "    def _on_enter_pressed(self, event):\n",
    "        msg = self.msg_entry.get()\n",
    "        self._insert_message(msg, \"You\")\n",
    "        \n",
    "    def _insert_message(self, msg, sender):\n",
    "        if not msg:\n",
    "            return\n",
    "        \n",
    "        self.msg_entry.delete(0, END)\n",
    "        msg1 = f\"{sender}: {msg}\\n\\n\"\n",
    "        self.text_widget.configure(state=NORMAL)\n",
    "        self.text_widget.insert(END, msg1)\n",
    "        self.text_widget.configure(state=DISABLED)\n",
    "        \n",
    "        msg2 = f\"{bot_name}: {get_response(msg)}\\n\\n\"\n",
    "        bot_speaking(get_response(msg))\n",
    "        self.text_widget.configure(state=NORMAL)\n",
    "        self.text_widget.insert(END, msg2)\n",
    "        self.text_widget.configure(state=DISABLED)\n",
    "        \n",
    "        self.text_widget.see(END)\n",
    "             \n",
    "        \n",
    "if __name__ == \"__main__\":\n",
    "    app = ChatApplication()\n",
    "    app.run()"
   ]
  },
  {
   "cell_type": "code",
   "execution_count": null,
   "id": "78d625b7",
   "metadata": {},
   "outputs": [],
   "source": []
  }
 ],
 "metadata": {
  "kernelspec": {
   "display_name": "Python 3",
   "language": "python",
   "name": "python3"
  },
  "language_info": {
   "codemirror_mode": {
    "name": "ipython",
    "version": 3
   },
   "file_extension": ".py",
   "mimetype": "text/x-python",
   "name": "python",
   "nbconvert_exporter": "python",
   "pygments_lexer": "ipython3",
   "version": "3.8.8"
  }
 },
 "nbformat": 4,
 "nbformat_minor": 5
}
