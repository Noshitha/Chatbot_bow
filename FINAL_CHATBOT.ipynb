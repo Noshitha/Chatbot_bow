{
 "cells": [
  {
   "cell_type": "markdown",
   "id": "57c4cf2e",
   "metadata": {},
   "source": [
    "# IMPORTING THE LIBRARIES"
   ]
  },
  {
   "cell_type": "code",
   "execution_count": 14,
   "id": "4206899d",
   "metadata": {},
   "outputs": [],
   "source": [
    "import nltk\n",
    "from nltk.stem.lancaster import LancasterStemmer\n",
    "stemmer = LancasterStemmer()\n",
    "import time\n",
    "import difflib\n",
    "import numpy\n",
    "import tflearn\n",
    "import tensorflow\n",
    "import random\n",
    "import json\n",
    "import pickle\n",
    "import os"
   ]
  },
  {
   "cell_type": "markdown",
   "id": "429045e1",
   "metadata": {},
   "source": [
    "# PRE- PROCESSING THE DATA"
   ]
  },
  {
   "cell_type": "code",
   "execution_count": 15,
   "id": "fd532948",
   "metadata": {},
   "outputs": [],
   "source": [
    "with open(\"intents (1).json\") as file:\n",
    "    data = json.load(file)\n",
    "\n",
    "try:\n",
    "    with open(\"data.pickle\", \"rb\") as f:\n",
    "        words, labels, training, output = pickle.load(f)\n",
    "except:\n",
    "    words = []\n",
    "    labels =[]\n",
    "    docs_patt = []\n",
    "    docs_tag = []\n",
    "\n",
    "#TOKENISATION & STEMMING\n",
    "    for intent in data[\"intents\"]:\n",
    "        for pattern in intent[\"patterns\"]:\n",
    "            wrds = nltk.word_tokenize(pattern)\n",
    "            for item in wrds:\n",
    "                words.extend(wrds)\n",
    "                docs_patt.append(wrds)\n",
    "                docs_tag.append(intent[\"tag\"])\n",
    "                if intent[\"tag\"] not in labels:\n",
    "                    labels.append(intent[\"tag\"])\n",
    "    words = [stemmer.stem(w.lower()) for w in words]\n",
    "    words = sorted(list(set(words)))\n",
    "\n",
    "    labels = sorted(labels)\n",
    "\n",
    "    training = []\n",
    "    output = []\n",
    "\n",
    "    out_empty = [0 for _ in range(len(labels))]\n",
    "#BAG OF WORDS\n",
    "    for x, doc in enumerate(docs_patt):\n",
    "        bag = []\n",
    "        wrds = [stemmer.stem(w.lower()) for w in doc]\n",
    "        for w in words:\n",
    "            if w in wrds:\n",
    "                bag.append(1)\n",
    "            else:\n",
    "                bag.append(0)\n",
    "        output_row = out_empty[:]\n",
    "        output_row[labels.index(docs_tag[x])] = 1\n",
    "\n",
    "        training.append(bag)\n",
    "        output.append(output_row)\n",
    "\n",
    "    training = numpy.array(training)\n",
    "    output = numpy.array(output)\n",
    "\n",
    "    with open(\"data.pickle\", \"wb\") as f:\n",
    "        pickle.dump((words, labels, training, output), f)\n"
   ]
  },
  {
   "cell_type": "markdown",
   "id": "7c9af02d",
   "metadata": {},
   "source": [
    "# MODEL BUILDING"
   ]
  },
  {
   "cell_type": "code",
   "execution_count": 16,
   "id": "be568e44",
   "metadata": {},
   "outputs": [],
   "source": [
    "from tensorflow.python.framework import ops\n",
    "ops.reset_default_graph()\n",
    "net = tflearn.input_data(shape=[None, len(training[0])])\n",
    "net = tflearn.fully_connected(net, 8)\n",
    "net = tflearn.fully_connected(net, 8)\n",
    "net = tflearn.fully_connected(net, len(output[0]), activation=\"softmax\")\n",
    "net = tflearn.regression(net)\n",
    "\n",
    "model = tflearn.DNN(net)\n"
   ]
  },
  {
   "cell_type": "markdown",
   "id": "ab78df93",
   "metadata": {},
   "source": [
    "BATCH GRADIENT DESCEND -> BATCH SIZE=8, NO OF EPOCHES= 1000"
   ]
  },
  {
   "cell_type": "code",
   "execution_count": 17,
   "id": "5f32c4fe",
   "metadata": {},
   "outputs": [
    {
     "name": "stdout",
     "output_type": "stream",
     "text": [
      "INFO:tensorflow:Restoring parameters from C:\\Users\\Dell\\Desktop\\major project\\model.tflearn\n"
     ]
    }
   ],
   "source": [
    "try:\n",
    "    model.load(\"model.tflearn\")\n",
    "except:\n",
    "    model = tflearn.DNN(net)\n",
    "    model.fit(training, output, n_epoch=1000, batch_size=8, show_metric=True)\n",
    "    model.save(\"model.tflearn\")"
   ]
  },
  {
   "cell_type": "markdown",
   "id": "7b17ae13",
   "metadata": {},
   "source": [
    "# INPUT PRE PROCESSING"
   ]
  },
  {
   "cell_type": "code",
   "execution_count": 18,
   "id": "5e266e8f",
   "metadata": {},
   "outputs": [],
   "source": [
    "def bag_of_words(s, words):\n",
    "    bag = [0 for _ in range(len(words))]\n",
    "\n",
    "    s_words = nltk.word_tokenize(s)\n",
    "    s_words = [stemmer.stem(word.lower()) for word in s_words]\n",
    "\n",
    "    for se in s_words:\n",
    "        for i, w in enumerate(words):\n",
    "            if w == se:\n",
    "                bag[i] = 1\n",
    "\n",
    "    return numpy.array(bag)"
   ]
  },
  {
   "cell_type": "code",
   "execution_count": 19,
   "id": "498c4df4",
   "metadata": {},
   "outputs": [],
   "source": [
    "def words_to_list(s):\n",
    "    a = []\n",
    "    ns = \"\"\n",
    "    s = s + \" \" \n",
    "    for i in range(len(s)):\n",
    "        if s[i] == \" \":\n",
    "            a.append(ns)\n",
    "            ns = \"\"\n",
    "        else:\n",
    "            ns = ns + s[i]\n",
    "    a = list(set(a))\n",
    "    return a"
   ]
  },
  {
   "cell_type": "code",
   "execution_count": 20,
   "id": "d0ba9d30",
   "metadata": {},
   "outputs": [],
   "source": [
    "# pass the file in this fuction to create a dictionary of unique vocabulary\n",
    "def json_to_dictionary(data):\n",
    "    dictionary = []\n",
    "    fil_dict= []\n",
    "    vocalubary = []\n",
    "    for i in data[\"intents\"]:\n",
    "        for pattern in i[\"patterns\"]:\n",
    "            vocalubary.append(pattern.lower())\n",
    "    for i in vocalubary:\n",
    "        dictionary.append(words_to_list(i))\n",
    "    for i in range(len(dictionary)):\n",
    "        for word in dictionary[i]:\n",
    "            fil_dict.append(word)\n",
    "    return list(set(fil_dict))\n",
    "\n",
    "# this fuction checks the spelling in the sentence\n",
    "chatbot_vocabulary = json_to_dictionary(data)"
   ]
  },
  {
   "cell_type": "code",
   "execution_count": 21,
   "id": "8f09f4ff",
   "metadata": {},
   "outputs": [],
   "source": [
    "def word_checker(s):\n",
    "    correct_string = \"\"\n",
    "    for word in s.casefold().split():\n",
    "        if word not in chatbot_vocabulary:\n",
    "            suggestion = difflib.get_close_matches(word, chatbot_vocabulary)\n",
    "            for x in suggestion:\n",
    "                pass\n",
    "            if len(suggestion) == 0:\n",
    "                pass\n",
    "            else:\n",
    "                correct_string = correct_string + \" \" + str(suggestion[0])\n",
    "        else:\n",
    "            correct_string = correct_string + \" \" + str(word)\n",
    "\n",
    "    return correct_string "
   ]
  },
  {
   "cell_type": "markdown",
   "id": "24972c78",
   "metadata": {},
   "source": [
    "# SPEECH RECOGNITION"
   ]
  },
  {
   "cell_type": "code",
   "execution_count": 22,
   "id": "cd51845a",
   "metadata": {},
   "outputs": [],
   "source": [
    "import speech_recognition as sr\n",
    "r=sr.Recognizer()\n",
    "import pyttsx3\n",
    "engine = pyttsx3.init()"
   ]
  },
  {
   "cell_type": "code",
   "execution_count": 23,
   "id": "71962c4c",
   "metadata": {},
   "outputs": [],
   "source": [
    "def bot_speaking(message):\n",
    "    engine.say(message)\n",
    "    engine.runAndWait()\n",
    "    if engine._inLoop:\n",
    "        engine.endLoop()"
   ]
  },
  {
   "cell_type": "markdown",
   "id": "e3c48b4f",
   "metadata": {},
   "source": [
    "# CHAT FUNCTION"
   ]
  },
  {
   "cell_type": "code",
   "execution_count": 24,
   "id": "b2c6d7d5",
   "metadata": {},
   "outputs": [
    {
     "name": "stdout",
     "output_type": "stream",
     "text": [
      "Hi! I am your personal bot. I am here to answer queries on VNRVJIET\n",
      "YOU : Placement?\n",
      "BOT : 85 Global Companies (26 Core Companies) Recruited 955 Students from 2020 Graduating Batch.\n",
      " Amazon SDE Offers highest about 28.75 Lakhs per annum package.\n",
      " The highest salary package offered for one of the students from the passed-out batch was 43 LPA\n",
      "The average salary package offered was around 5 LPA-7 LPA while the least is 3.75 lpa.\n",
      " Visit http://www.vnrvjiet.ac.in/placement.php.\n",
      "YOU : certification courses\n",
      "BOT :  vnrvjiet has 1)IT 2)CIVIL 3)EEE 4)MECHANICAL 5)ECE 6)CSE 7)EIE 8)AE 9)HUMANITY AND SCIENCES.\n",
      " Additionally ,There are many training courses offered in VNRVJIET.\n",
      "Special coding programs are offered in almost every branch of vnrvjiet.\n",
      " In CSE & IT department, they offer training on Full stack, data science,AI, ML and programing languages.\n",
      " In EEE,EIE &ECE they offer IOT training sessions. \n",
      "YOU : ragging\n",
      "BOT : We are Proud to tell you that our college provides ragging free environment, and we have strict rules against ragging\n",
      "YOU : bus facility\n",
      "YOU : bus\n",
      "BOT : Bus facility available for each route in Hyderabad.For more information visit help desk\n",
      "YOU : contact\n",
      "BOT : You can contact at 040 2304 2760\n",
      "YOU : events\n",
      "BOT : Convergence, Sports Week, Scintillations and various other event conducted in the college.\n",
      " For more information you can visit college Website http://www.vnrvjiet.ac.in\n",
      "YOU : syllabus\n",
      "BOT : To know about  syllabus and timetable visit http://www.vnrvjiet.ac.in/bsb.php\n",
      "YOU : library\n",
      "BOT : There is one library on first floor besides Show N tell.\n",
      " Library timings are 9:00 am to 5:00 pm.\n",
      "YOU : intake\n",
      "BOT : For CSE, ECE  240 per branch,\n",
      "for EIE,EEE,MECH,CIVIL 120 per branch,\n",
      "for it 180 per branch. \n",
      "YOU : exam schedule\n",
      "BOT : Here is the Academic Calendar visit http://www.vnrvjiet.ac.in/bac.php\n",
      "YOU : difference between it and cse\n",
      "BOT :  vnrvjiet has 1)IT 2)CIVIL 3)EEE 4)MECHANICAL 5)ECE 6)CSE 7)EIE 8)AE 9)HUMANITY AND SCIENCES.\n",
      " Additionally ,There are many training courses offered in VNRVJIET.\n",
      "Special coding programs are offered in almost every branch of vnrvjiet.\n",
      " In CSE & IT department, they offer training on Full stack, data science,AI, ML and programing languages.\n",
      " In EEE,EIE &ECE they offer IOT training sessions. \n",
      "YOU : quit\n"
     ]
    }
   ],
   "source": [
    "def chat():\n",
    "    print(\"Hi! I am your personal bot. I am here to answer queries on VNRVJIET\")\n",
    "    while True:\n",
    "        inp=input(\"YOU : \")\n",
    "        if inp.lower() == \"quit\"or inp==None:\n",
    "            break\n",
    "        inp_x = word_checker(inp)\n",
    "        results = model.predict([bag_of_words(inp_x, words)])[0]\n",
    "        results_index = numpy.argmax(results)\n",
    "        tag = labels[results_index]\n",
    "        #print(results[results_index])\n",
    "        if results[results_index] >= 0.9:\n",
    "            for tg in data[\"intents\"]:\n",
    "                if tg['tag'] == tag:\n",
    "                    responses = tg['responses']\n",
    "                    ms= random.choice(responses)\n",
    "                    print(\"VNR-BOT : \"+ms)\n",
    "                    bot_speaking(ms)\n",
    "        else:\n",
    "            print(\"VNR-BOT : Sorry, I don't know how to answer that yet \")\n",
    "            bot_speaking(\"Sorry, I don't know how to answer that yet\")\n",
    "chat()"
   ]
  },
  {
   "cell_type": "markdown",
   "id": "a168e500",
   "metadata": {},
   "source": [
    "# GUI APPLICATION - CHATBOT"
   ]
  },
  {
   "cell_type": "code",
   "execution_count": 28,
   "id": "400ff5cd",
   "metadata": {},
   "outputs": [],
   "source": [
    "from tkinter import *\n",
    "\n",
    "BG_GRAY = \"#ABB2B9\"\n",
    "BG_COLOR = \"#17202A\"\n",
    "TEXT_COLOR = \"#EAECEE\"\n",
    "\n",
    "FONT = \"Helvetica 14\"\n",
    "FONT_BOLD = \"Helvetica 13 bold\"\n",
    "bot_name =\"VNR-BOT\"\n",
    "def get_response(msg):\n",
    "    #print(\"Hi! I am your personal bot. I am here to answer queries on VNRVJIET\")\n",
    "    while True:\n",
    "        inp=msg\n",
    "        if inp.lower() == \"quit\"or inp==None:\n",
    "            break\n",
    "        inp_x = word_checker(inp)\n",
    "        results = model.predict([bag_of_words(inp_x, words)])[0]\n",
    "        results_index = numpy.argmax(results)\n",
    "        tag = labels[results_index]\n",
    "        #print(results[results_index])\n",
    "        if results[results_index] >= 0.9:\n",
    "            for tg in data[\"intents\"]:\n",
    "                if tg['tag'] == tag:\n",
    "                    responses = tg['responses']\n",
    "                    ms= random.choice(responses)\n",
    "                    return ms\n",
    "        else:\n",
    "            return \" Sorry, I don't know how to answer that yet \"\n",
    "\n",
    "class ChatApplication:\n",
    "    \n",
    "    def __init__(self):\n",
    "        self.window = Tk()\n",
    "        self._setup_main_window()\n",
    "        \n",
    "    def run(self):\n",
    "        self.window.mainloop()\n",
    "        \n",
    "    def _setup_main_window(self):\n",
    "        self.window.title(\"Chat\")\n",
    "        #self.window.resizable(width=False, height=False)\n",
    "        self.window.configure(width=470, height=550, bg=BG_COLOR)\n",
    "        \n",
    "        # head label\n",
    "        head_label = Label(self.window, bg=BG_COLOR, fg=TEXT_COLOR,\n",
    "                           text=\"WELCOME TO VNRVJIET CHAT-BOT\", font=FONT_BOLD, pady=10)\n",
    "        head_label.place(relwidth=1)\n",
    "        \n",
    "        # tiny divider\n",
    "        line = Label(self.window, width=450, bg=BG_GRAY)\n",
    "        line.place(relwidth=1, rely=0.07, relheight=0.012)\n",
    "        \n",
    "        # text widget\n",
    "        self.text_widget = Text(self.window, width=20, height=2, bg=BG_COLOR, fg=TEXT_COLOR,\n",
    "                                font=FONT, padx=5, pady=5)\n",
    "        self.text_widget.place(relheight=0.745, relwidth=1, rely=0.08)\n",
    "        self.text_widget.configure(cursor=\"arrow\", state=DISABLED)\n",
    "        \n",
    "        # scroll bar\n",
    "        scrollbar = Scrollbar(self.text_widget)\n",
    "        scrollbar.place(relheight=1, relx=0.974)\n",
    "        scrollbar.configure(command=self.text_widget.yview)\n",
    "        \n",
    "        # bottom label\n",
    "        bottom_label = Label(self.window, bg=BG_GRAY, height=80)\n",
    "        bottom_label.place(relwidth=1, rely=0.825)\n",
    "        \n",
    "        # message entry box\n",
    "        self.msg_entry = Entry(bottom_label, bg=\"#2C3E50\", fg=TEXT_COLOR, font=FONT)\n",
    "        self.msg_entry.place(relwidth=0.74, relheight=0.06, rely=0.008, relx=0.011)\n",
    "        self.msg_entry.focus()\n",
    "        self.msg_entry.bind(\"<Return>\", self._on_enter_pressed)\n",
    "        \n",
    "        # send button\n",
    "        send_button = Button(bottom_label, text=\"Send\", font=FONT_BOLD, width=20, bg=BG_GRAY, command=lambda: self._on_enter_pressed(None))\n",
    "        send_button.place(relx=0.77, rely=0.008, relheight=0.06, relwidth=0.22)\n",
    "     \n",
    "    def _on_enter_pressed(self, event):\n",
    "        msg = self.msg_entry.get()\n",
    "        self._insert_message(msg, \"You\")\n",
    "        \n",
    "    def _insert_message(self, msg, sender):\n",
    "        if not msg:\n",
    "            return\n",
    "        \n",
    "        self.msg_entry.delete(0, END)\n",
    "        msg1 = f\"{sender}: {msg}\\n\\n\"\n",
    "        self.text_widget.configure(state=NORMAL)\n",
    "        self.text_widget.insert(END, msg1)\n",
    "        self.text_widget.configure(state=DISABLED)\n",
    "        \n",
    "        msg2 = f\"{bot_name}: {get_response(msg)}\\n\\n\"\n",
    "        bot_speaking(ms)\n",
    "        self.text_widget.configure(state=NORMAL)\n",
    "        self.text_widget.insert(END, msg2)\n",
    "        self.text_widget.configure(state=DISABLED)\n",
    "        \n",
    "        self.text_widget.see(END)\n",
    "             \n",
    "        \n",
    "if __name__ == \"__main__\":\n",
    "    app = ChatApplication()\n",
    "    app.run()"
   ]
  },
  {
   "cell_type": "code",
   "execution_count": null,
   "id": "bbf0c9ca",
   "metadata": {},
   "outputs": [],
   "source": []
  }
 ],
 "metadata": {
  "kernelspec": {
   "display_name": "Python 3",
   "language": "python",
   "name": "python3"
  },
  "language_info": {
   "codemirror_mode": {
    "name": "ipython",
    "version": 3
   },
   "file_extension": ".py",
   "mimetype": "text/x-python",
   "name": "python",
   "nbconvert_exporter": "python",
   "pygments_lexer": "ipython3",
   "version": "3.8.8"
  }
 },
 "nbformat": 4,
 "nbformat_minor": 5
}
